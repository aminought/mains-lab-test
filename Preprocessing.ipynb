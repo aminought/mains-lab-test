{
 "cells": [
  {
   "cell_type": "code",
   "execution_count": 1,
   "metadata": {},
   "outputs": [],
   "source": [
    "import pandas as pd\n",
    "import numpy as np\n",
    "import scipy as sp\n",
    "import seaborn as sns\n",
    "import matplotlib.pyplot as plt\n",
    "sns.set()"
   ]
  },
  {
   "cell_type": "code",
   "execution_count": 2,
   "metadata": {},
   "outputs": [],
   "source": [
    "df = pd.read_excel('test_sample_medical.xlsx')"
   ]
  },
  {
   "cell_type": "code",
   "execution_count": 3,
   "metadata": {},
   "outputs": [],
   "source": [
    "df.columns = ['gender', 'birthday', 'service', 'num', 'date', 'diagnosis', 'insured_id', 'case_id', 'service_class']"
   ]
  },
  {
   "cell_type": "code",
   "execution_count": 4,
   "metadata": {},
   "outputs": [],
   "source": [
    "df['birthday'] = pd.to_datetime(df['birthday'])\n",
    "df['date'] = pd.to_datetime(df['date'])\n",
    "df['birthday_year'] = df['birthday'].dt.year"
   ]
  },
  {
   "cell_type": "code",
   "execution_count": 5,
   "metadata": {},
   "outputs": [
    {
     "data": {
      "text/html": [
       "<div>\n",
       "<style scoped>\n",
       "    .dataframe tbody tr th:only-of-type {\n",
       "        vertical-align: middle;\n",
       "    }\n",
       "\n",
       "    .dataframe tbody tr th {\n",
       "        vertical-align: top;\n",
       "    }\n",
       "\n",
       "    .dataframe thead th {\n",
       "        text-align: right;\n",
       "    }\n",
       "</style>\n",
       "<table border=\"1\" class=\"dataframe\">\n",
       "  <thead>\n",
       "    <tr style=\"text-align: right;\">\n",
       "      <th></th>\n",
       "      <th>gender</th>\n",
       "      <th>birthday</th>\n",
       "      <th>service</th>\n",
       "      <th>num</th>\n",
       "      <th>date</th>\n",
       "      <th>diagnosis</th>\n",
       "      <th>insured_id</th>\n",
       "      <th>case_id</th>\n",
       "      <th>service_class</th>\n",
       "      <th>birthday_year</th>\n",
       "    </tr>\n",
       "  </thead>\n",
       "  <tbody>\n",
       "    <tr>\n",
       "      <td>0</td>\n",
       "      <td>Ж</td>\n",
       "      <td>1965-09-21</td>\n",
       "      <td>Прием (осмотр, консультация) врача-невролога п...</td>\n",
       "      <td>1</td>\n",
       "      <td>2018-08-13</td>\n",
       "      <td>G43.0</td>\n",
       "      <td>0</td>\n",
       "      <td>0</td>\n",
       "      <td>1231</td>\n",
       "      <td>1965</td>\n",
       "    </tr>\n",
       "    <tr>\n",
       "      <td>1</td>\n",
       "      <td>Ж</td>\n",
       "      <td>1965-09-21</td>\n",
       "      <td>Прием (осмотр, консультация) врача-невролога, ...</td>\n",
       "      <td>1</td>\n",
       "      <td>2018-06-08</td>\n",
       "      <td>G44.2</td>\n",
       "      <td>0</td>\n",
       "      <td>0</td>\n",
       "      <td>5101</td>\n",
       "      <td>1965</td>\n",
       "    </tr>\n",
       "    <tr>\n",
       "      <td>2</td>\n",
       "      <td>Ж</td>\n",
       "      <td>1965-09-21</td>\n",
       "      <td>Эхокардиография с физической нагрузкой</td>\n",
       "      <td>1</td>\n",
       "      <td>2018-07-24</td>\n",
       "      <td>I20.9</td>\n",
       "      <td>0</td>\n",
       "      <td>0</td>\n",
       "      <td>4400</td>\n",
       "      <td>1965</td>\n",
       "    </tr>\n",
       "    <tr>\n",
       "      <td>3</td>\n",
       "      <td>Ж</td>\n",
       "      <td>1965-09-21</td>\n",
       "      <td>Холтеровское мониторирование сердечного ритма ...</td>\n",
       "      <td>1</td>\n",
       "      <td>2018-07-17</td>\n",
       "      <td>I20.9</td>\n",
       "      <td>0</td>\n",
       "      <td>0</td>\n",
       "      <td>4100</td>\n",
       "      <td>1965</td>\n",
       "    </tr>\n",
       "    <tr>\n",
       "      <td>4</td>\n",
       "      <td>Ж</td>\n",
       "      <td>1965-09-21</td>\n",
       "      <td>Маммография (двух молочных желез )</td>\n",
       "      <td>1</td>\n",
       "      <td>2018-08-14</td>\n",
       "      <td>N64.4</td>\n",
       "      <td>0</td>\n",
       "      <td>0</td>\n",
       "      <td>4210</td>\n",
       "      <td>1965</td>\n",
       "    </tr>\n",
       "  </tbody>\n",
       "</table>\n",
       "</div>"
      ],
      "text/plain": [
       "  gender   birthday                                            service  num  \\\n",
       "0      Ж 1965-09-21  Прием (осмотр, консультация) врача-невролога п...    1   \n",
       "1      Ж 1965-09-21  Прием (осмотр, консультация) врача-невролога, ...    1   \n",
       "2      Ж 1965-09-21             Эхокардиография с физической нагрузкой    1   \n",
       "3      Ж 1965-09-21  Холтеровское мониторирование сердечного ритма ...    1   \n",
       "4      Ж 1965-09-21                 Маммография (двух молочных желез )    1   \n",
       "\n",
       "        date diagnosis  insured_id  case_id  service_class  birthday_year  \n",
       "0 2018-08-13     G43.0           0        0           1231           1965  \n",
       "1 2018-06-08     G44.2           0        0           5101           1965  \n",
       "2 2018-07-24     I20.9           0        0           4400           1965  \n",
       "3 2018-07-17     I20.9           0        0           4100           1965  \n",
       "4 2018-08-14     N64.4           0        0           4210           1965  "
      ]
     },
     "execution_count": 5,
     "metadata": {},
     "output_type": "execute_result"
    }
   ],
   "source": [
    "df.head()"
   ]
  },
  {
   "cell_type": "markdown",
   "metadata": {},
   "source": [
    "# Готовим таргет"
   ]
  },
  {
   "cell_type": "code",
   "execution_count": 6,
   "metadata": {},
   "outputs": [
    {
     "data": {
      "text/html": [
       "<div>\n",
       "<style scoped>\n",
       "    .dataframe tbody tr th:only-of-type {\n",
       "        vertical-align: middle;\n",
       "    }\n",
       "\n",
       "    .dataframe tbody tr th {\n",
       "        vertical-align: top;\n",
       "    }\n",
       "\n",
       "    .dataframe thead th {\n",
       "        text-align: right;\n",
       "    }\n",
       "</style>\n",
       "<table border=\"1\" class=\"dataframe\">\n",
       "  <thead>\n",
       "    <tr style=\"text-align: right;\">\n",
       "      <th></th>\n",
       "      <th>gender</th>\n",
       "      <th>birthday</th>\n",
       "      <th>service</th>\n",
       "      <th>num</th>\n",
       "      <th>date</th>\n",
       "      <th>diagnosis</th>\n",
       "      <th>insured_id</th>\n",
       "      <th>case_id</th>\n",
       "      <th>service_class</th>\n",
       "      <th>birthday_year</th>\n",
       "    </tr>\n",
       "  </thead>\n",
       "  <tbody>\n",
       "    <tr>\n",
       "      <td>4158</td>\n",
       "      <td>М</td>\n",
       "      <td>1955-10-31</td>\n",
       "      <td>Прием врача общей практики</td>\n",
       "      <td>1</td>\n",
       "      <td>2018-03-09</td>\n",
       "      <td>D64.9; K29.7; K82.9; E03.9; E61.2; E55; K63.9;...</td>\n",
       "      <td>403</td>\n",
       "      <td>516</td>\n",
       "      <td>1121</td>\n",
       "      <td>1955</td>\n",
       "    </tr>\n",
       "    <tr>\n",
       "      <td>4164</td>\n",
       "      <td>М</td>\n",
       "      <td>1955-10-31</td>\n",
       "      <td>Повторный прием врача - общей практики</td>\n",
       "      <td>1</td>\n",
       "      <td>2018-09-24</td>\n",
       "      <td>E16.9; K29.0; K86.9; M85.9; E29.1; I84; N15.9;...</td>\n",
       "      <td>403</td>\n",
       "      <td>517</td>\n",
       "      <td>1121</td>\n",
       "      <td>1955</td>\n",
       "    </tr>\n",
       "    <tr>\n",
       "      <td>9142</td>\n",
       "      <td>М</td>\n",
       "      <td>1954-06-16</td>\n",
       "      <td>Прием врача-кардиолога</td>\n",
       "      <td>1</td>\n",
       "      <td>2018-07-30</td>\n",
       "      <td>R07.4; I25.1; I49.9; I10; R42; I70.8; I70.2</td>\n",
       "      <td>802</td>\n",
       "      <td>1077</td>\n",
       "      <td>1201</td>\n",
       "      <td>1954</td>\n",
       "    </tr>\n",
       "    <tr>\n",
       "      <td>9143</td>\n",
       "      <td>М</td>\n",
       "      <td>1954-06-16</td>\n",
       "      <td>Холестерин ЛПНП</td>\n",
       "      <td>1</td>\n",
       "      <td>2018-07-30</td>\n",
       "      <td>R07.4; I25.1; I49.9; I10; R42; I70.8; I70.2</td>\n",
       "      <td>802</td>\n",
       "      <td>1077</td>\n",
       "      <td>3200</td>\n",
       "      <td>1954</td>\n",
       "    </tr>\n",
       "    <tr>\n",
       "      <td>9144</td>\n",
       "      <td>М</td>\n",
       "      <td>1954-06-16</td>\n",
       "      <td>Холестерин общий</td>\n",
       "      <td>1</td>\n",
       "      <td>2018-07-30</td>\n",
       "      <td>R07.4; I25.1; I49.9; I10; R42; I70.8; I70.2</td>\n",
       "      <td>802</td>\n",
       "      <td>1077</td>\n",
       "      <td>3200</td>\n",
       "      <td>1954</td>\n",
       "    </tr>\n",
       "    <tr>\n",
       "      <td>...</td>\n",
       "      <td>...</td>\n",
       "      <td>...</td>\n",
       "      <td>...</td>\n",
       "      <td>...</td>\n",
       "      <td>...</td>\n",
       "      <td>...</td>\n",
       "      <td>...</td>\n",
       "      <td>...</td>\n",
       "      <td>...</td>\n",
       "      <td>...</td>\n",
       "    </tr>\n",
       "    <tr>\n",
       "      <td>161653</td>\n",
       "      <td>Ж</td>\n",
       "      <td>1970-08-25</td>\n",
       "      <td>Консультация врача гинеколога первичная (сбор ...</td>\n",
       "      <td>1</td>\n",
       "      <td>2018-10-22</td>\n",
       "      <td>N 93.9, N 85.0-?,                             ...</td>\n",
       "      <td>18415</td>\n",
       "      <td>21875</td>\n",
       "      <td>6125</td>\n",
       "      <td>1970</td>\n",
       "    </tr>\n",
       "    <tr>\n",
       "      <td>161654</td>\n",
       "      <td>Ж</td>\n",
       "      <td>1970-08-25</td>\n",
       "      <td>Микроскопическое (бактериоскопическое) исследо...</td>\n",
       "      <td>1</td>\n",
       "      <td>2018-10-22</td>\n",
       "      <td>N 93.9, N 85.0-?,                             ...</td>\n",
       "      <td>18415</td>\n",
       "      <td>21875</td>\n",
       "      <td>3100</td>\n",
       "      <td>1970</td>\n",
       "    </tr>\n",
       "    <tr>\n",
       "      <td>161655</td>\n",
       "      <td>Ж</td>\n",
       "      <td>1970-08-25</td>\n",
       "      <td>Взятие материала для микробиологических исслед...</td>\n",
       "      <td>1</td>\n",
       "      <td>2018-10-22</td>\n",
       "      <td>N 93.9, N 85.0-?,                             ...</td>\n",
       "      <td>18415</td>\n",
       "      <td>21875</td>\n",
       "      <td>1252</td>\n",
       "      <td>1970</td>\n",
       "    </tr>\n",
       "    <tr>\n",
       "      <td>163198</td>\n",
       "      <td>Ж</td>\n",
       "      <td>1996-05-01</td>\n",
       "      <td>Прием (осмотр, консультация) врача-гастроэнтер...</td>\n",
       "      <td>1</td>\n",
       "      <td>2018-04-07</td>\n",
       "      <td>K29.6     , K63.9     , K86.1     , K81.1</td>\n",
       "      <td>18720</td>\n",
       "      <td>22195</td>\n",
       "      <td>1211</td>\n",
       "      <td>1996</td>\n",
       "    </tr>\n",
       "    <tr>\n",
       "      <td>163199</td>\n",
       "      <td>Ж</td>\n",
       "      <td>1996-05-01</td>\n",
       "      <td>Прием (осмотр, консультация) врача-гастроэнтер...</td>\n",
       "      <td>1</td>\n",
       "      <td>2018-10-07</td>\n",
       "      <td>K29.6     , K63.9     , K86.1     , K81.1</td>\n",
       "      <td>18720</td>\n",
       "      <td>22195</td>\n",
       "      <td>1211</td>\n",
       "      <td>1996</td>\n",
       "    </tr>\n",
       "  </tbody>\n",
       "</table>\n",
       "<p>168 rows × 10 columns</p>\n",
       "</div>"
      ],
      "text/plain": [
       "       gender   birthday                                            service  \\\n",
       "4158        М 1955-10-31                         Прием врача общей практики   \n",
       "4164        М 1955-10-31             Повторный прием врача - общей практики   \n",
       "9142        М 1954-06-16                             Прием врача-кардиолога   \n",
       "9143        М 1954-06-16                                    Холестерин ЛПНП   \n",
       "9144        М 1954-06-16                                   Холестерин общий   \n",
       "...       ...        ...                                                ...   \n",
       "161653      Ж 1970-08-25  Консультация врача гинеколога первичная (сбор ...   \n",
       "161654      Ж 1970-08-25  Микроскопическое (бактериоскопическое) исследо...   \n",
       "161655      Ж 1970-08-25  Взятие материала для микробиологических исслед...   \n",
       "163198      Ж 1996-05-01  Прием (осмотр, консультация) врача-гастроэнтер...   \n",
       "163199      Ж 1996-05-01  Прием (осмотр, консультация) врача-гастроэнтер...   \n",
       "\n",
       "        num       date                                          diagnosis  \\\n",
       "4158      1 2018-03-09  D64.9; K29.7; K82.9; E03.9; E61.2; E55; K63.9;...   \n",
       "4164      1 2018-09-24  E16.9; K29.0; K86.9; M85.9; E29.1; I84; N15.9;...   \n",
       "9142      1 2018-07-30        R07.4; I25.1; I49.9; I10; R42; I70.8; I70.2   \n",
       "9143      1 2018-07-30        R07.4; I25.1; I49.9; I10; R42; I70.8; I70.2   \n",
       "9144      1 2018-07-30        R07.4; I25.1; I49.9; I10; R42; I70.8; I70.2   \n",
       "...     ...        ...                                                ...   \n",
       "161653    1 2018-10-22  N 93.9, N 85.0-?,                             ...   \n",
       "161654    1 2018-10-22  N 93.9, N 85.0-?,                             ...   \n",
       "161655    1 2018-10-22  N 93.9, N 85.0-?,                             ...   \n",
       "163198    1 2018-04-07          K29.6     , K63.9     , K86.1     , K81.1   \n",
       "163199    1 2018-10-07          K29.6     , K63.9     , K86.1     , K81.1   \n",
       "\n",
       "        insured_id  case_id  service_class  birthday_year  \n",
       "4158           403      516           1121           1955  \n",
       "4164           403      517           1121           1955  \n",
       "9142           802     1077           1201           1954  \n",
       "9143           802     1077           3200           1954  \n",
       "9144           802     1077           3200           1954  \n",
       "...            ...      ...            ...            ...  \n",
       "161653       18415    21875           6125           1970  \n",
       "161654       18415    21875           3100           1970  \n",
       "161655       18415    21875           1252           1970  \n",
       "163198       18720    22195           1211           1996  \n",
       "163199       18720    22195           1211           1996  \n",
       "\n",
       "[168 rows x 10 columns]"
      ]
     },
     "execution_count": 6,
     "metadata": {},
     "output_type": "execute_result"
    }
   ],
   "source": [
    "df[df.index.isin(df['diagnosis'].str.len().to_frame().query('diagnosis > 40').index)]"
   ]
  },
  {
   "cell_type": "code",
   "execution_count": 7,
   "metadata": {},
   "outputs": [],
   "source": [
    "test = '''К 05.1\n",
    "К 05.1 К 03.6 К 03.8\n",
    "К 05.1,К 03.6,К 03.8\n",
    "К05.1,К03.6,К03.8\n",
    "К05.1;К03.6;К03.8\n",
    "N 93.9, N 85.0-?,                               N 72\n",
    "R07.4; I25.1; I49.9; I10; R42; I70.8; I70.2\n",
    "K29.6 , K63.9 , K86.1 , K81.1\n",
    "D64.9; K29.7; K82.9; E03.9; E61.2; E55; K63.9; E10-E14; G47.9; K76.9; K57; K31.9; K86.9; K81.9; K80.\n",
    "R07.4; I25.1; I49.9; I10; R42; I70.8; I70.2\n",
    "К04.9 (1.6)                         К04.9 (1.7)\n",
    "K04.7  Периапикальный абсцесс без полости'\n",
    "I 11.9, I 67.9, N 20-?,                            К 80\n",
    "M54.2,D50.9,E14.9,K80.1\n",
    "К 05.1  К 03.6  К 03.8\n",
    "К02.1 35\n",
    "(J06.9)\n",
    "№87.2\n",
    "E03.9, -'''\n",
    "\n",
    "test = test.split('\\n')"
   ]
  },
  {
   "cell_type": "code",
   "execution_count": 8,
   "metadata": {},
   "outputs": [],
   "source": [
    "def get_codes(s):\n",
    "    pattern = re.compile('([A-ZА-Я]\\s*[0-9]+\\.*[0-9]*)')\n",
    "    return pattern.findall(s)"
   ]
  },
  {
   "cell_type": "code",
   "execution_count": 9,
   "metadata": {},
   "outputs": [
    {
     "name": "stdout",
     "output_type": "stream",
     "text": [
      "\"К 05.1\": ['К 05.1']\n",
      "\"К 05.1 К 03.6 К 03.8\": ['К 05.1', 'К 03.6', 'К 03.8']\n",
      "\"К 05.1,К 03.6,К 03.8\": ['К 05.1', 'К 03.6', 'К 03.8']\n",
      "\"К05.1,К03.6,К03.8\": ['К05.1', 'К03.6', 'К03.8']\n",
      "\"К05.1;К03.6;К03.8\": ['К05.1', 'К03.6', 'К03.8']\n",
      "\"N 93.9, N 85.0-?,                               N 72\": ['N 93.9', 'N 85.0', 'N 72']\n",
      "\"R07.4; I25.1; I49.9; I10; R42; I70.8; I70.2\": ['R07.4', 'I25.1', 'I49.9', 'I10', 'R42', 'I70.8', 'I70.2']\n",
      "\"K29.6 , K63.9 , K86.1 , K81.1\": ['K29.6', 'K63.9', 'K86.1', 'K81.1']\n",
      "\"D64.9; K29.7; K82.9; E03.9; E61.2; E55; K63.9; E10-E14; G47.9; K76.9; K57; K31.9; K86.9; K81.9; K80.\": ['D64.9', 'K29.7', 'K82.9', 'E03.9', 'E61.2', 'E55', 'K63.9', 'E10', 'E14', 'G47.9', 'K76.9', 'K57', 'K31.9', 'K86.9', 'K81.9', 'K80.']\n",
      "\"R07.4; I25.1; I49.9; I10; R42; I70.8; I70.2\": ['R07.4', 'I25.1', 'I49.9', 'I10', 'R42', 'I70.8', 'I70.2']\n",
      "\"К04.9 (1.6)                         К04.9 (1.7)\": ['К04.9', 'К04.9']\n",
      "\"K04.7  Периапикальный абсцесс без полости'\": ['K04.7']\n",
      "\"I 11.9, I 67.9, N 20-?,                            К 80\": ['I 11.9', 'I 67.9', 'N 20', 'К 80']\n",
      "\"M54.2,D50.9,E14.9,K80.1\": ['M54.2', 'D50.9', 'E14.9', 'K80.1']\n",
      "\"К 05.1  К 03.6  К 03.8\": ['К 05.1', 'К 03.6', 'К 03.8']\n",
      "\"К02.1 35\": ['К02.1']\n",
      "\"(J06.9)\": ['J06.9']\n",
      "\"№87.2\": []\n",
      "\"E03.9, -\": ['E03.9']\n"
     ]
    }
   ],
   "source": [
    "import re\n",
    "\n",
    "for t in test:\n",
    "    matches = get_codes(t)\n",
    "    print(f'\"{t}\": {matches}')"
   ]
  },
  {
   "cell_type": "code",
   "execution_count": 10,
   "metadata": {},
   "outputs": [],
   "source": [
    "def convert_codes(x):\n",
    "    if pd.isna(x):\n",
    "        return np.nan\n",
    "    \n",
    "    x = x.upper()\n",
    "    codes = get_codes(x)\n",
    "    first_letters = [c[0] for c in codes]\n",
    "    \n",
    "    if len(first_letters) == 0:\n",
    "        return np.nan\n",
    "    \n",
    "    first_letters = np.unique(first_letters)\n",
    "    rus = ['А', 'В', 'Е', 'К', 'М', 'Н', 'О']\n",
    "    eng = ['A', 'B', 'E', 'K', 'M', 'H', 'O']\n",
    "    tr_table = {ord(r): ord(e) for r, e in zip (rus, eng)}\n",
    "          \n",
    "    return [l.translate(tr_table) for l in first_letters]"
   ]
  },
  {
   "cell_type": "code",
   "execution_count": 11,
   "metadata": {},
   "outputs": [],
   "source": [
    "df['target'] = df['diagnosis'].apply(convert_codes)"
   ]
  },
  {
   "cell_type": "code",
   "execution_count": 12,
   "metadata": {},
   "outputs": [
    {
     "data": {
      "text/plain": [
       "NaN          74477\n",
       "[K]          17077\n",
       "[M]          14114\n",
       "[N]          13936\n",
       "[J]          11164\n",
       "             ...  \n",
       "[L, A]           1\n",
       "[K, L, R]        1\n",
       "[D, E, Z]        1\n",
       "[I, K, R]        1\n",
       "[K, S]           1\n",
       "Name: target, Length: 284, dtype: int64"
      ]
     },
     "execution_count": 12,
     "metadata": {},
     "output_type": "execute_result"
    }
   ],
   "source": [
    "df['target'].value_counts(dropna=False)"
   ]
  },
  {
   "cell_type": "markdown",
   "metadata": {},
   "source": [
    "# Предобработка текста"
   ]
  },
  {
   "cell_type": "code",
   "execution_count": 14,
   "metadata": {},
   "outputs": [
    {
     "name": "stderr",
     "output_type": "stream",
     "text": [
      "[nltk_data] Downloading package stopwords to\n",
      "[nltk_data]     /home/aminought/nltk_data...\n",
      "[nltk_data]   Package stopwords is already up-to-date!\n"
     ]
    },
    {
     "data": {
      "text/plain": [
       "True"
      ]
     },
     "execution_count": 14,
     "metadata": {},
     "output_type": "execute_result"
    }
   ],
   "source": [
    "from pymystem3 import Mystem\n",
    "import nltk\n",
    "from string import punctuation\n",
    "\n",
    "nltk.download('stopwords')"
   ]
  },
  {
   "cell_type": "code",
   "execution_count": 15,
   "metadata": {},
   "outputs": [],
   "source": [
    "m = Mystem()\n",
    "stopwords = nltk.corpus.stopwords.words('russian')"
   ]
  },
  {
   "cell_type": "code",
   "execution_count": 16,
   "metadata": {},
   "outputs": [],
   "source": [
    "def transform_text(s):\n",
    "    tokens = m.lemmatize(s.lower())\n",
    "    tokens = [t.strip() for t in tokens if t not in stopwords and t != ' ' and t.strip() not in punctuation]\n",
    "    return ' '.join(tokens)"
   ]
  },
  {
   "cell_type": "code",
   "execution_count": 17,
   "metadata": {},
   "outputs": [],
   "source": [
    "df['service_lemm'] = df['service'].apply(transform_text).values"
   ]
  },
  {
   "cell_type": "code",
   "execution_count": 18,
   "metadata": {},
   "outputs": [
    {
     "data": {
      "text/plain": [
       "0         прием осмотр консультация врач невролог повтор...\n",
       "1         прием осмотр консультация врач невролог иметь ...\n",
       "2                       эхокардиография физический нагрузка\n",
       "3         холтеровский мониторирование сердечный ритм дл...\n",
       "4                               маммография молочный железо\n",
       "                                ...                        \n",
       "165396                             мочевина © согласовывать\n",
       "165397                      консультация врач офтальмология\n",
       "165398      rg графия шейный отдел позвоночник 2 пройка ции\n",
       "165399                         консультация врач неврология\n",
       "165400    транскраниальный сканирование сосуд головной м...\n",
       "Name: service_lemm, Length: 165401, dtype: object"
      ]
     },
     "execution_count": 18,
     "metadata": {},
     "output_type": "execute_result"
    }
   ],
   "source": [
    "df['service_lemm']"
   ]
  },
  {
   "cell_type": "markdown",
   "metadata": {},
   "source": [
    "# Делим на train и test"
   ]
  },
  {
   "cell_type": "code",
   "execution_count": 19,
   "metadata": {},
   "outputs": [],
   "source": [
    "from sklearn.model_selection import train_test_split"
   ]
  },
  {
   "cell_type": "code",
   "execution_count": 20,
   "metadata": {},
   "outputs": [],
   "source": [
    "dataset_without_na = df[~df['target'].isna()]"
   ]
  },
  {
   "cell_type": "code",
   "execution_count": 40,
   "metadata": {},
   "outputs": [],
   "source": [
    "# здесь должна быть стратификация\n",
    "_, test_indices = train_test_split(\n",
    "    dataset_without_na.index, \n",
    "    test_size=0.3, \n",
    "    shuffle=True, \n",
    "    random_state=1\n",
    ")"
   ]
  },
  {
   "cell_type": "code",
   "execution_count": 37,
   "metadata": {},
   "outputs": [],
   "source": [
    "test = df.iloc[test_indices]\n",
    "train = df[~df.index.isin(test_indices)].sample(frac=1)"
   ]
  },
  {
   "cell_type": "code",
   "execution_count": 38,
   "metadata": {},
   "outputs": [
    {
     "data": {
      "text/plain": [
       "((27278, 12), (138123, 12))"
      ]
     },
     "execution_count": 38,
     "metadata": {},
     "output_type": "execute_result"
    }
   ],
   "source": [
    "test.shape, train.shape"
   ]
  },
  {
   "cell_type": "code",
   "execution_count": 39,
   "metadata": {},
   "outputs": [],
   "source": [
    "train.to_csv('train.csv')\n",
    "test.to_csv('test.csv')"
   ]
  }
 ],
 "metadata": {
  "kernelspec": {
   "display_name": "Python 3",
   "language": "python",
   "name": "python3"
  },
  "language_info": {
   "codemirror_mode": {
    "name": "ipython",
    "version": 3
   },
   "file_extension": ".py",
   "mimetype": "text/x-python",
   "name": "python",
   "nbconvert_exporter": "python",
   "pygments_lexer": "ipython3",
   "version": "3.7.4"
  }
 },
 "nbformat": 4,
 "nbformat_minor": 4
}
