{
 "cells": [
  {
   "cell_type": "code",
   "execution_count": 1,
   "metadata": {},
   "outputs": [],
   "source": [
    "import pandas as pd\n",
    "import numpy as np\n",
    "import scipy as sp\n",
    "import seaborn as sns\n",
    "import matplotlib.pyplot as plt\n",
    "sns.set()"
   ]
  },
  {
   "cell_type": "code",
   "execution_count": 2,
   "metadata": {},
   "outputs": [],
   "source": [
    "df = pd.read_excel('test_sample_medical.xlsx')"
   ]
  },
  {
   "cell_type": "markdown",
   "metadata": {},
   "source": [
    "# EDA"
   ]
  },
  {
   "cell_type": "code",
   "execution_count": 3,
   "metadata": {},
   "outputs": [
    {
     "data": {
      "text/html": [
       "<div>\n",
       "<style scoped>\n",
       "    .dataframe tbody tr th:only-of-type {\n",
       "        vertical-align: middle;\n",
       "    }\n",
       "\n",
       "    .dataframe tbody tr th {\n",
       "        vertical-align: top;\n",
       "    }\n",
       "\n",
       "    .dataframe thead th {\n",
       "        text-align: right;\n",
       "    }\n",
       "</style>\n",
       "<table border=\"1\" class=\"dataframe\">\n",
       "  <thead>\n",
       "    <tr style=\"text-align: right;\">\n",
       "      <th></th>\n",
       "      <th>Пол</th>\n",
       "      <th>Дата рождения</th>\n",
       "      <th>Наименование услуги</th>\n",
       "      <th>Кол-во услуг</th>\n",
       "      <th>Дата услуги</th>\n",
       "      <th>Код диагноза</th>\n",
       "      <th>unique_insured_id</th>\n",
       "      <th>case_id</th>\n",
       "      <th>service_class</th>\n",
       "    </tr>\n",
       "  </thead>\n",
       "  <tbody>\n",
       "    <tr>\n",
       "      <td>0</td>\n",
       "      <td>Ж</td>\n",
       "      <td>21.09.1965</td>\n",
       "      <td>Прием (осмотр, консультация) врача-невролога п...</td>\n",
       "      <td>1</td>\n",
       "      <td>13.08.2018</td>\n",
       "      <td>G43.0</td>\n",
       "      <td>0</td>\n",
       "      <td>0</td>\n",
       "      <td>1231</td>\n",
       "    </tr>\n",
       "    <tr>\n",
       "      <td>1</td>\n",
       "      <td>Ж</td>\n",
       "      <td>21.09.1965</td>\n",
       "      <td>Прием (осмотр, консультация) врача-невролога, ...</td>\n",
       "      <td>1</td>\n",
       "      <td>06.08.2018</td>\n",
       "      <td>G44.2</td>\n",
       "      <td>0</td>\n",
       "      <td>0</td>\n",
       "      <td>5101</td>\n",
       "    </tr>\n",
       "    <tr>\n",
       "      <td>2</td>\n",
       "      <td>Ж</td>\n",
       "      <td>21.09.1965</td>\n",
       "      <td>Эхокардиография с физической нагрузкой</td>\n",
       "      <td>1</td>\n",
       "      <td>24.07.2018</td>\n",
       "      <td>I20.9</td>\n",
       "      <td>0</td>\n",
       "      <td>0</td>\n",
       "      <td>4400</td>\n",
       "    </tr>\n",
       "    <tr>\n",
       "      <td>3</td>\n",
       "      <td>Ж</td>\n",
       "      <td>21.09.1965</td>\n",
       "      <td>Холтеровское мониторирование сердечного ритма ...</td>\n",
       "      <td>1</td>\n",
       "      <td>17.07.2018</td>\n",
       "      <td>I20.9</td>\n",
       "      <td>0</td>\n",
       "      <td>0</td>\n",
       "      <td>4100</td>\n",
       "    </tr>\n",
       "    <tr>\n",
       "      <td>4</td>\n",
       "      <td>Ж</td>\n",
       "      <td>21.09.1965</td>\n",
       "      <td>Маммография (двух молочных желез )</td>\n",
       "      <td>1</td>\n",
       "      <td>14.08.2018</td>\n",
       "      <td>N64.4</td>\n",
       "      <td>0</td>\n",
       "      <td>0</td>\n",
       "      <td>4210</td>\n",
       "    </tr>\n",
       "  </tbody>\n",
       "</table>\n",
       "</div>"
      ],
      "text/plain": [
       "  Пол Дата рождения                                Наименование услуги  \\\n",
       "0   Ж    21.09.1965  Прием (осмотр, консультация) врача-невролога п...   \n",
       "1   Ж    21.09.1965  Прием (осмотр, консультация) врача-невролога, ...   \n",
       "2   Ж    21.09.1965             Эхокардиография с физической нагрузкой   \n",
       "3   Ж    21.09.1965  Холтеровское мониторирование сердечного ритма ...   \n",
       "4   Ж    21.09.1965                 Маммография (двух молочных желез )   \n",
       "\n",
       "   Кол-во услуг Дата услуги Код диагноза  unique_insured_id  case_id  \\\n",
       "0             1  13.08.2018        G43.0                  0        0   \n",
       "1             1  06.08.2018        G44.2                  0        0   \n",
       "2             1  24.07.2018        I20.9                  0        0   \n",
       "3             1  17.07.2018        I20.9                  0        0   \n",
       "4             1  14.08.2018        N64.4                  0        0   \n",
       "\n",
       "   service_class  \n",
       "0           1231  \n",
       "1           5101  \n",
       "2           4400  \n",
       "3           4100  \n",
       "4           4210  "
      ]
     },
     "execution_count": 3,
     "metadata": {},
     "output_type": "execute_result"
    }
   ],
   "source": [
    "df.head()"
   ]
  },
  {
   "cell_type": "code",
   "execution_count": 4,
   "metadata": {},
   "outputs": [
    {
     "name": "stdout",
     "output_type": "stream",
     "text": [
      "<class 'pandas.core.frame.DataFrame'>\n",
      "RangeIndex: 165401 entries, 0 to 165400\n",
      "Data columns (total 9 columns):\n",
      "Пол                    165401 non-null object\n",
      "Дата рождения          165401 non-null object\n",
      "Наименование услуги    165401 non-null object\n",
      "Кол-во услуг           165401 non-null int64\n",
      "Дата услуги            165401 non-null object\n",
      "Код диагноза           90973 non-null object\n",
      "unique_insured_id      165401 non-null int64\n",
      "case_id                165401 non-null int64\n",
      "service_class          165401 non-null int64\n",
      "dtypes: int64(4), object(5)\n",
      "memory usage: 11.4+ MB\n"
     ]
    }
   ],
   "source": [
    "df.info()"
   ]
  },
  {
   "cell_type": "code",
   "execution_count": 5,
   "metadata": {},
   "outputs": [],
   "source": [
    "df.columns = ['gender', 'birthday', 'service', 'num', 'date', 'diagnosis', 'insured_id', 'case_id', 'service_class']"
   ]
  },
  {
   "cell_type": "code",
   "execution_count": 6,
   "metadata": {},
   "outputs": [],
   "source": [
    "df['birthday'] = pd.to_datetime(df['birthday'])\n",
    "df['date'] = pd.to_datetime(df['date'])\n",
    "df['birthday_year'] = df['birthday'].dt.year"
   ]
  },
  {
   "cell_type": "code",
   "execution_count": 7,
   "metadata": {},
   "outputs": [
    {
     "data": {
      "text/html": [
       "<div>\n",
       "<style scoped>\n",
       "    .dataframe tbody tr th:only-of-type {\n",
       "        vertical-align: middle;\n",
       "    }\n",
       "\n",
       "    .dataframe tbody tr th {\n",
       "        vertical-align: top;\n",
       "    }\n",
       "\n",
       "    .dataframe thead th {\n",
       "        text-align: right;\n",
       "    }\n",
       "</style>\n",
       "<table border=\"1\" class=\"dataframe\">\n",
       "  <thead>\n",
       "    <tr style=\"text-align: right;\">\n",
       "      <th></th>\n",
       "      <th>gender</th>\n",
       "      <th>birthday</th>\n",
       "      <th>service</th>\n",
       "      <th>num</th>\n",
       "      <th>date</th>\n",
       "      <th>diagnosis</th>\n",
       "      <th>insured_id</th>\n",
       "      <th>case_id</th>\n",
       "      <th>service_class</th>\n",
       "      <th>birthday_year</th>\n",
       "    </tr>\n",
       "  </thead>\n",
       "  <tbody>\n",
       "    <tr>\n",
       "      <td>0</td>\n",
       "      <td>Ж</td>\n",
       "      <td>1965-09-21</td>\n",
       "      <td>Прием (осмотр, консультация) врача-невролога п...</td>\n",
       "      <td>1</td>\n",
       "      <td>2018-08-13</td>\n",
       "      <td>G43.0</td>\n",
       "      <td>0</td>\n",
       "      <td>0</td>\n",
       "      <td>1231</td>\n",
       "      <td>1965</td>\n",
       "    </tr>\n",
       "    <tr>\n",
       "      <td>1</td>\n",
       "      <td>Ж</td>\n",
       "      <td>1965-09-21</td>\n",
       "      <td>Прием (осмотр, консультация) врача-невролога, ...</td>\n",
       "      <td>1</td>\n",
       "      <td>2018-06-08</td>\n",
       "      <td>G44.2</td>\n",
       "      <td>0</td>\n",
       "      <td>0</td>\n",
       "      <td>5101</td>\n",
       "      <td>1965</td>\n",
       "    </tr>\n",
       "    <tr>\n",
       "      <td>2</td>\n",
       "      <td>Ж</td>\n",
       "      <td>1965-09-21</td>\n",
       "      <td>Эхокардиография с физической нагрузкой</td>\n",
       "      <td>1</td>\n",
       "      <td>2018-07-24</td>\n",
       "      <td>I20.9</td>\n",
       "      <td>0</td>\n",
       "      <td>0</td>\n",
       "      <td>4400</td>\n",
       "      <td>1965</td>\n",
       "    </tr>\n",
       "    <tr>\n",
       "      <td>3</td>\n",
       "      <td>Ж</td>\n",
       "      <td>1965-09-21</td>\n",
       "      <td>Холтеровское мониторирование сердечного ритма ...</td>\n",
       "      <td>1</td>\n",
       "      <td>2018-07-17</td>\n",
       "      <td>I20.9</td>\n",
       "      <td>0</td>\n",
       "      <td>0</td>\n",
       "      <td>4100</td>\n",
       "      <td>1965</td>\n",
       "    </tr>\n",
       "    <tr>\n",
       "      <td>4</td>\n",
       "      <td>Ж</td>\n",
       "      <td>1965-09-21</td>\n",
       "      <td>Маммография (двух молочных желез )</td>\n",
       "      <td>1</td>\n",
       "      <td>2018-08-14</td>\n",
       "      <td>N64.4</td>\n",
       "      <td>0</td>\n",
       "      <td>0</td>\n",
       "      <td>4210</td>\n",
       "      <td>1965</td>\n",
       "    </tr>\n",
       "  </tbody>\n",
       "</table>\n",
       "</div>"
      ],
      "text/plain": [
       "  gender   birthday                                            service  num  \\\n",
       "0      Ж 1965-09-21  Прием (осмотр, консультация) врача-невролога п...    1   \n",
       "1      Ж 1965-09-21  Прием (осмотр, консультация) врача-невролога, ...    1   \n",
       "2      Ж 1965-09-21             Эхокардиография с физической нагрузкой    1   \n",
       "3      Ж 1965-09-21  Холтеровское мониторирование сердечного ритма ...    1   \n",
       "4      Ж 1965-09-21                 Маммография (двух молочных желез )    1   \n",
       "\n",
       "        date diagnosis  insured_id  case_id  service_class  birthday_year  \n",
       "0 2018-08-13     G43.0           0        0           1231           1965  \n",
       "1 2018-06-08     G44.2           0        0           5101           1965  \n",
       "2 2018-07-24     I20.9           0        0           4400           1965  \n",
       "3 2018-07-17     I20.9           0        0           4100           1965  \n",
       "4 2018-08-14     N64.4           0        0           4210           1965  "
      ]
     },
     "execution_count": 7,
     "metadata": {},
     "output_type": "execute_result"
    }
   ],
   "source": [
    "df.head()"
   ]
  },
  {
   "cell_type": "code",
   "execution_count": 8,
   "metadata": {},
   "outputs": [
    {
     "data": {
      "text/plain": [
       "False    90973\n",
       "True     74428\n",
       "Name: diagnosis, dtype: int64"
      ]
     },
     "execution_count": 8,
     "metadata": {},
     "output_type": "execute_result"
    }
   ],
   "source": [
    "df['diagnosis'].isna().value_counts()"
   ]
  },
  {
   "cell_type": "code",
   "execution_count": 9,
   "metadata": {},
   "outputs": [
    {
     "data": {
      "text/plain": [
       "False    0.550015\n",
       "True     0.449985\n",
       "Name: diagnosis, dtype: float64"
      ]
     },
     "execution_count": 9,
     "metadata": {},
     "output_type": "execute_result"
    }
   ],
   "source": [
    "df['diagnosis'].isna().value_counts(normalize=True)"
   ]
  },
  {
   "cell_type": "code",
   "execution_count": 10,
   "metadata": {},
   "outputs": [
    {
     "data": {
      "image/png": "[encoded data removed]",
      "text/plain": [
       "<Figure size 432x288 with 1 Axes>"
      ]
     },
     "metadata": {
      "needs_background": "light"
     },
     "output_type": "display_data"
    }
   ],
   "source": [
    "sns.countplot(x='gender', data=df);"
   ]
  },
  {
   "cell_type": "code",
   "execution_count": 11,
   "metadata": {},
   "outputs": [
    {
     "data": {
      "image/png": "[encoded data removed]",
      "text/plain": [
       "<Figure size 432x288 with 1 Axes>"
      ]
     },
     "metadata": {
      "needs_background": "light"
     },
     "output_type": "display_data"
    }
   ],
   "source": [
    "# Длина строки диагноза\n",
    "df['diagnosis'].str.len().hist(bins=50);"
   ]
  },
  {
   "cell_type": "code",
   "execution_count": 12,
   "metadata": {},
   "outputs": [
    {
     "data": {
      "image/png": "[encoded data removed]",
      "text/plain": [
       "<Figure size 432x288 with 1 Axes>"
      ]
     },
     "metadata": {
      "needs_background": "light"
     },
     "output_type": "display_data"
    }
   ],
   "source": [
    "# Длина строки сервиса\n",
    "df['service'].str.len().hist(bins=50);"
   ]
  },
  {
   "cell_type": "code",
   "execution_count": 13,
   "metadata": {},
   "outputs": [
    {
     "data": {
      "image/png": "[encoded data removed]",
      "text/plain": [
       "<Figure size 432x288 with 1 Axes>"
      ]
     },
     "metadata": {
      "needs_background": "light"
     },
     "output_type": "display_data"
    }
   ],
   "source": [
    "df['birthday_year'].hist();"
   ]
  },
  {
   "cell_type": "code",
   "execution_count": 14,
   "metadata": {},
   "outputs": [
    {
     "data": {
      "text/plain": [
       "2018    165401\n",
       "Name: date, dtype: int64"
      ]
     },
     "execution_count": 14,
     "metadata": {},
     "output_type": "execute_result"
    }
   ],
   "source": [
    "df['date'].dt.year.value_counts()"
   ]
  },
  {
   "cell_type": "code",
   "execution_count": 15,
   "metadata": {},
   "outputs": [
    {
     "data": {
      "text/plain": [
       "1     159929\n",
       "2       3118\n",
       "3        590\n",
       "4        357\n",
       "28       252\n",
       "20       153\n",
       "5        110\n",
       "10       110\n",
       "8         75\n",
       "6         73\n",
       "26        64\n",
       "14        50\n",
       "12        47\n",
       "7         44\n",
       "24        43\n",
       "27        41\n",
       "30        37\n",
       "23        32\n",
       "16        25\n",
       "25        25\n",
       "18        25\n",
       "9         23\n",
       "15        22\n",
       "19        21\n",
       "22        19\n",
       "29        18\n",
       "31        17\n",
       "11        16\n",
       "13        15\n",
       "17        13\n",
       "32        12\n",
       "39        10\n",
       "21         8\n",
       "46         1\n",
       "50         1\n",
       "51         1\n",
       "40         1\n",
       "67         1\n",
       "43         1\n",
       "68         1\n",
       "Name: num, dtype: int64"
      ]
     },
     "execution_count": 15,
     "metadata": {},
     "output_type": "execute_result"
    }
   ],
   "source": [
    "df['num'].value_counts()"
   ]
  },
  {
   "cell_type": "code",
   "execution_count": 16,
   "metadata": {},
   "outputs": [
    {
     "data": {
      "text/plain": [
       "5446     219\n",
       "8295     167\n",
       "3975     122\n",
       "1867     121\n",
       "17360    121\n",
       "        ... \n",
       "14760      1\n",
       "9461       1\n",
       "6700       1\n",
       "7410       1\n",
       "2047       1\n",
       "Name: insured_id, Length: 19058, dtype: int64"
      ]
     },
     "execution_count": 16,
     "metadata": {},
     "output_type": "execute_result"
    }
   ],
   "source": [
    "df['insured_id'].value_counts()"
   ]
  },
  {
   "cell_type": "code",
   "execution_count": 17,
   "metadata": {},
   "outputs": [
    {
     "data": {
      "text/plain": [
       "7103     219\n",
       "10521    167\n",
       "20778    121\n",
       "11524    106\n",
       "971      106\n",
       "        ... \n",
       "7653       1\n",
       "20641      1\n",
       "5604       1\n",
       "9698       1\n",
       "16951      1\n",
       "Name: case_id, Length: 22664, dtype: int64"
      ]
     },
     "execution_count": 17,
     "metadata": {},
     "output_type": "execute_result"
    }
   ],
   "source": [
    "df['case_id'].value_counts()"
   ]
  },
  {
   "cell_type": "code",
   "execution_count": 19,
   "metadata": {},
   "outputs": [
    {
     "data": {
      "text/plain": [
       "1    22664\n",
       "Name: birthday, dtype: int64"
      ]
     },
     "execution_count": 19,
     "metadata": {},
     "output_type": "execute_result"
    }
   ],
   "source": [
    "# Проверяем догадку о том, что case_id — это уникальный человек\n",
    "df.groupby('case_id')['birthday'].nunique().value_counts()"
   ]
  },
  {
   "cell_type": "code",
   "execution_count": 20,
   "metadata": {},
   "outputs": [
    {
     "data": {
      "text/plain": [
       "(19381, 203)"
      ]
     },
     "execution_count": 20,
     "metadata": {},
     "output_type": "execute_result"
    }
   ],
   "source": [
    "df['service'].nunique(), df['service_class'].nunique()"
   ]
  },
  {
   "cell_type": "code",
   "execution_count": 21,
   "metadata": {},
   "outputs": [
    {
     "data": {
      "text/plain": [
       "service_class\n",
       "0        80\n",
       "1001    168\n",
       "1002     26\n",
       "1010      9\n",
       "1020      6\n",
       "       ... \n",
       "8430     12\n",
       "8440      2\n",
       "8500     18\n",
       "8502      2\n",
       "8510     36\n",
       "Name: service, Length: 203, dtype: int64"
      ]
     },
     "execution_count": 21,
     "metadata": {},
     "output_type": "execute_result"
    }
   ],
   "source": [
    "df.groupby('service_class')['service'].nunique()"
   ]
  },
  {
   "cell_type": "code",
   "execution_count": 23,
   "metadata": {},
   "outputs": [
    {
     "data": {
      "text/plain": [
       "5446     219\n",
       "8295     167\n",
       "3975     122\n",
       "1867     121\n",
       "17360    121\n",
       "        ... \n",
       "14760      1\n",
       "9461       1\n",
       "6700       1\n",
       "7410       1\n",
       "2047       1\n",
       "Name: insured_id, Length: 19058, dtype: int64"
      ]
     },
     "execution_count": 23,
     "metadata": {},
     "output_type": "execute_result"
    }
   ],
   "source": [
    "df['insured_id'].value_counts()"
   ]
  },
  {
   "cell_type": "markdown",
   "metadata": {},
   "source": [
    "### Выводы"
   ]
  },
  {
   "cell_type": "markdown",
   "metadata": {},
   "source": [
    "- В одной строке может быть указан не один диагноз. Что делать в этом случае? Ответ: считать верным любой из указанных.\n",
    "- num — количественная мера услуги (пример: кол-во вылеченных зубов, кол-во наложенных повязок)\n",
    "- insured_id — уникальный человек, не нужен\n",
    "- case_id — набор услуг, проведенных за короткий промежуток времени, бесполезен для модели\n",
    "- Дату проведения услуги можно убрать, она бесполезна и будет только мешать\n",
    "- service_class может пригодиться, доп. информация к описанию услуги\n",
    "- У 55% данных отсутствуют метки, возможно следует применить semi-supervised learning\n",
    "- Полезные признаки: gender, birthday, service, num, service_class"
   ]
  }
 ],
 "metadata": {
  "kernelspec": {
   "display_name": "Python 3",
   "language": "python",
   "name": "python3"
  },
  "language_info": {
   "codemirror_mode": {
    "name": "ipython",
    "version": 3
   },
   "file_extension": ".py",
   "mimetype": "text/x-python",
   "name": "python",
   "nbconvert_exporter": "python",
   "pygments_lexer": "ipython3",
   "version": "3.7.4"
  }
 },
 "nbformat": 4,
 "nbformat_minor": 4
}
