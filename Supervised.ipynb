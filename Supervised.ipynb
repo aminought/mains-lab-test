{
 "cells": [
  {
   "cell_type": "code",
   "execution_count": 64,
   "metadata": {},
   "outputs": [],
   "source": [
    "import pandas as pd\n",
    "import numpy as np\n",
    "import scipy as sp\n",
    "import seaborn as sns\n",
    "import matplotlib.pyplot as plt\n",
    "sns.set()\n",
    "\n",
    "from sklearn.feature_extraction.text import TfidfVectorizer\n",
    "from sklearn.preprocessing import OneHotEncoder, FunctionTransformer, StandardScaler\n",
    "from sklearn.decomposition import PCA\n",
    "from imblearn.over_sampling import SMOTE\n",
    "from sklearn.neighbors import KNeighborsClassifier\n",
    "from sklearn.ensemble import RandomForestClassifier\n",
    "from xgboost import XGBClassifier\n",
    "from sklearn.pipeline import FeatureUnion\n",
    "from imblearn.pipeline import Pipeline\n",
    "from sklearn.metrics import classification_report, confusion_matrix"
   ]
  },
  {
   "cell_type": "code",
   "execution_count": 25,
   "metadata": {},
   "outputs": [],
   "source": [
    "train = pd.read_csv('train.csv', index_col=0, parse_dates=['birthday', 'date'])\n",
    "test = pd.read_csv('test.csv', index_col=0, parse_dates=['birthday', 'date'])"
   ]
  },
  {
   "cell_type": "code",
   "execution_count": 26,
   "metadata": {},
   "outputs": [],
   "source": [
    "train['service_lemm'] = train['service_lemm'].fillna('')\n",
    "test['service_lemm'] = test['service_lemm'].fillna('')"
   ]
  },
  {
   "cell_type": "code",
   "execution_count": 27,
   "metadata": {},
   "outputs": [],
   "source": [
    "from ast import literal_eval\n",
    "\n",
    "train['target'] = train['target'].apply(lambda x: literal_eval(x) if x is not np.nan else x)\n",
    "test['target'] = test['target'].apply(lambda x: literal_eval(x) if x is not np.nan else x)"
   ]
  },
  {
   "cell_type": "code",
   "execution_count": 28,
   "metadata": {},
   "outputs": [],
   "source": [
    "train_sl = train[~train['target'].isna()]"
   ]
  },
  {
   "cell_type": "code",
   "execution_count": 29,
   "metadata": {},
   "outputs": [
    {
     "data": {
      "text/plain": [
       "(63646, 12)"
      ]
     },
     "execution_count": 29,
     "metadata": {},
     "output_type": "execute_result"
    }
   ],
   "source": [
    "train_sl.shape"
   ]
  },
  {
   "cell_type": "code",
   "execution_count": 30,
   "metadata": {},
   "outputs": [],
   "source": [
    "from itertools import chain\n",
    "classes = np.unique(list(chain(*train_sl['target'].tolist())) + list(chain(*test['target'].tolist())))"
   ]
  },
  {
   "cell_type": "code",
   "execution_count": 31,
   "metadata": {},
   "outputs": [
    {
     "data": {
      "text/plain": [
       "array(['A', 'B', 'C', 'D', 'E', 'F', 'G', 'H', 'I', 'J', 'K', 'L', 'M',\n",
       "       'N', 'O', 'P', 'Q', 'R', 'S', 'T', 'V', 'W', 'Y', 'Z'], dtype='<U1')"
      ]
     },
     "execution_count": 31,
     "metadata": {},
     "output_type": "execute_result"
    }
   ],
   "source": [
    "classes"
   ]
  },
  {
   "cell_type": "code",
   "execution_count": 32,
   "metadata": {},
   "outputs": [],
   "source": [
    "from sklearn.preprocessing import MultiLabelBinarizer\n",
    "\n",
    "mb = MultiLabelBinarizer(classes=classes)\n",
    "y_train = mb.fit_transform(train_sl['target'])\n",
    "y_test = mb.transform(test['target'])"
   ]
  },
  {
   "cell_type": "code",
   "execution_count": 33,
   "metadata": {},
   "outputs": [],
   "source": [
    "num_cols = ['num', 'birthday_year']\n",
    "cat_cols = ['service_class']\n",
    "text_cols = ['service_lemm']"
   ]
  },
  {
   "cell_type": "code",
   "execution_count": 34,
   "metadata": {},
   "outputs": [],
   "source": [
    "X_cols = num_cols + cat_cols + text_cols\n",
    "X_train = train_sl[X_cols]\n",
    "X_test = test[X_cols]"
   ]
  },
  {
   "cell_type": "code",
   "execution_count": 35,
   "metadata": {},
   "outputs": [],
   "source": [
    "num_indices = np.argwhere(X_train.columns.isin(num_cols)).flatten()\n",
    "cat_indices = np.argwhere(X_train.columns.isin(cat_cols)).flatten()\n",
    "text_indices = np.argwhere(X_train.columns.isin(text_cols)).flatten()"
   ]
  },
  {
   "cell_type": "code",
   "execution_count": 36,
   "metadata": {},
   "outputs": [
    {
     "data": {
      "text/html": [
       "<div>\n",
       "<style scoped>\n",
       "    .dataframe tbody tr th:only-of-type {\n",
       "        vertical-align: middle;\n",
       "    }\n",
       "\n",
       "    .dataframe tbody tr th {\n",
       "        vertical-align: top;\n",
       "    }\n",
       "\n",
       "    .dataframe thead th {\n",
       "        text-align: right;\n",
       "    }\n",
       "</style>\n",
       "<table border=\"1\" class=\"dataframe\">\n",
       "  <thead>\n",
       "    <tr style=\"text-align: right;\">\n",
       "      <th></th>\n",
       "      <th>num</th>\n",
       "      <th>birthday_year</th>\n",
       "      <th>service_class</th>\n",
       "      <th>service_lemm</th>\n",
       "    </tr>\n",
       "  </thead>\n",
       "  <tbody>\n",
       "    <tr>\n",
       "      <td>129272</td>\n",
       "      <td>1</td>\n",
       "      <td>1968</td>\n",
       "      <td>4111</td>\n",
       "      <td>экг 12 ти отведение снятие расшифровка</td>\n",
       "    </tr>\n",
       "    <tr>\n",
       "      <td>51064</td>\n",
       "      <td>1</td>\n",
       "      <td>1989</td>\n",
       "      <td>3100</td>\n",
       "      <td>общий клинический анализ кровь</td>\n",
       "    </tr>\n",
       "    <tr>\n",
       "      <td>137191</td>\n",
       "      <td>1</td>\n",
       "      <td>1985</td>\n",
       "      <td>1810</td>\n",
       "      <td>забор материал рост флора чувствительность ант...</td>\n",
       "    </tr>\n",
       "    <tr>\n",
       "      <td>82671</td>\n",
       "      <td>1</td>\n",
       "      <td>2017</td>\n",
       "      <td>3100</td>\n",
       "      <td>общеклинический исследование мочь микроскопия</td>\n",
       "    </tr>\n",
       "    <tr>\n",
       "      <td>68484</td>\n",
       "      <td>1</td>\n",
       "      <td>1979</td>\n",
       "      <td>4500</td>\n",
       "      <td>эзофагоскопия лечебный диагностический т ч био...</td>\n",
       "    </tr>\n",
       "  </tbody>\n",
       "</table>\n",
       "</div>"
      ],
      "text/plain": [
       "        num  birthday_year  service_class  \\\n",
       "129272    1           1968           4111   \n",
       "51064     1           1989           3100   \n",
       "137191    1           1985           1810   \n",
       "82671     1           2017           3100   \n",
       "68484     1           1979           4500   \n",
       "\n",
       "                                             service_lemm  \n",
       "129272             экг 12 ти отведение снятие расшифровка  \n",
       "51064                      общий клинический анализ кровь  \n",
       "137191  забор материал рост флора чувствительность ант...  \n",
       "82671       общеклинический исследование мочь микроскопия  \n",
       "68484   эзофагоскопия лечебный диагностический т ч био...  "
      ]
     },
     "execution_count": 36,
     "metadata": {},
     "output_type": "execute_result"
    }
   ],
   "source": [
    "X_train.head()"
   ]
  },
  {
   "cell_type": "code",
   "execution_count": 74,
   "metadata": {},
   "outputs": [],
   "source": [
    "def test_model(pl):\n",
    "    y_train_pred = pl.predict(X_train.values)\n",
    "    y_pred = pl.predict(X_test.values)\n",
    "    print('Train:\\n')\n",
    "    print(classification_report(y_train, y_train_pred, zero_division=0, target_names=mb.classes_))\n",
    "    print('\\n\\nTest:\\n')\n",
    "    print(classification_report(y_test, y_pred, zero_division=0, target_names=mb.classes_))"
   ]
  },
  {
   "cell_type": "markdown",
   "metadata": {},
   "source": [
    "# KNN"
   ]
  },
  {
   "cell_type": "code",
   "execution_count": 75,
   "metadata": {},
   "outputs": [],
   "source": [
    "pl = Pipeline([\n",
    "    ('preprocess', FeatureUnion([\n",
    "        ('num', Pipeline([\n",
    "            ('select', FunctionTransformer(lambda X: X[:, num_indices], validate=False)),\n",
    "            ('scaler', StandardScaler())\n",
    "        ])),\n",
    "        ('cat', Pipeline([\n",
    "            ('select', FunctionTransformer(lambda X: X[:, cat_indices], validate=False)),\n",
    "            ('onehot', OneHotEncoder(sparse=False, categories='auto', handle_unknown='ignore'))\n",
    "        ])),\n",
    "        ('text', Pipeline([\n",
    "            ('select', FunctionTransformer(lambda X: X[:, text_indices[0]], validate=False)),\n",
    "            ('tfidf', TfidfVectorizer(min_df=50)),\n",
    "            ('toarray', FunctionTransformer(lambda X: X.toarray(), validate=False, accept_sparse=True))\n",
    "        ]))\n",
    "    ])),\n",
    "    ('pca', PCA(100)),\n",
    "    ('model', KNeighborsClassifier(n_jobs=-1))\n",
    "])"
   ]
  },
  {
   "cell_type": "code",
   "execution_count": 76,
   "metadata": {},
   "outputs": [
    {
     "name": "stdout",
     "output_type": "stream",
     "text": [
      "CPU times: user 20.9 s, sys: 857 ms, total: 21.8 s\n",
      "Wall time: 7.26 s\n"
     ]
    }
   ],
   "source": [
    "%%time\n",
    "pl = pl.fit(X_train.values, y_train)"
   ]
  },
  {
   "cell_type": "code",
   "execution_count": 77,
   "metadata": {},
   "outputs": [
    {
     "name": "stdout",
     "output_type": "stream",
     "text": [
      "Train:\n",
      "\n",
      "              precision    recall  f1-score   support\n",
      "\n",
      "           A       0.60      0.03      0.06       279\n",
      "           B       0.73      0.18      0.28       617\n",
      "           C       0.00      0.00      0.00        26\n",
      "           D       0.65      0.15      0.24      1930\n",
      "           E       0.89      0.64      0.74      3966\n",
      "           F       0.86      0.08      0.15        71\n",
      "           G       0.71      0.33      0.45      1947\n",
      "           H       0.91      0.83      0.87      4056\n",
      "           I       0.76      0.54      0.63      5388\n",
      "           J       0.78      0.67      0.72      8583\n",
      "           K       0.90      0.77      0.83     12368\n",
      "           L       0.72      0.44      0.55      1732\n",
      "           M       0.87      0.77      0.82     10557\n",
      "           N       0.86      0.80      0.83     10739\n",
      "           O       0.00      0.00      0.00         6\n",
      "           P       0.00      0.00      0.00         0\n",
      "           Q       0.00      0.00      0.00        39\n",
      "           R       0.67      0.13      0.22      1377\n",
      "           S       0.75      0.47      0.58      1569\n",
      "           T       0.81      0.31      0.45       352\n",
      "           V       0.00      0.00      0.00         1\n",
      "           W       0.00      0.00      0.00        31\n",
      "           Y       0.00      0.00      0.00         3\n",
      "           Z       0.87      0.41      0.56      1428\n",
      "\n",
      "   micro avg       0.84      0.66      0.74     67065\n",
      "   macro avg       0.56      0.31      0.37     67065\n",
      "weighted avg       0.83      0.66      0.72     67065\n",
      " samples avg       0.68      0.67      0.67     67065\n",
      "\n",
      "\n",
      "\n",
      "Test:\n",
      "\n",
      "              precision    recall  f1-score   support\n",
      "\n",
      "           A       0.75      0.03      0.05       119\n",
      "           B       0.43      0.09      0.14       254\n",
      "           C       0.00      0.00      0.00        15\n",
      "           D       0.32      0.07      0.12       844\n",
      "           E       0.86      0.61      0.71      1737\n",
      "           F       1.00      0.10      0.18        30\n",
      "           G       0.53      0.22      0.31       811\n",
      "           H       0.86      0.81      0.83      1702\n",
      "           I       0.63      0.43      0.51      2391\n",
      "           J       0.69      0.58      0.63      3641\n",
      "           K       0.85      0.74      0.79      5363\n",
      "           L       0.58      0.32      0.41       758\n",
      "           M       0.80      0.73      0.77      4427\n",
      "           N       0.81      0.76      0.79      4486\n",
      "           O       0.00      0.00      0.00         2\n",
      "           P       0.00      0.00      0.00         1\n",
      "           Q       0.00      0.00      0.00        14\n",
      "           R       0.49      0.12      0.19       547\n",
      "           S       0.61      0.34      0.44       760\n",
      "           T       0.71      0.28      0.40       139\n",
      "           V       0.00      0.00      0.00         0\n",
      "           W       0.00      0.00      0.00        11\n",
      "           Y       0.00      0.00      0.00         2\n",
      "           Z       0.87      0.33      0.47       608\n",
      "\n",
      "   micro avg       0.77      0.60      0.68     28662\n",
      "   macro avg       0.49      0.27      0.32     28662\n",
      "weighted avg       0.75      0.60      0.66     28662\n",
      " samples avg       0.62      0.61      0.61     28662\n",
      "\n"
     ]
    }
   ],
   "source": [
    "test_model(pl)"
   ]
  },
  {
   "cell_type": "markdown",
   "metadata": {},
   "source": [
    "# Random Forest"
   ]
  },
  {
   "cell_type": "code",
   "execution_count": 78,
   "metadata": {},
   "outputs": [],
   "source": [
    "pl = Pipeline([\n",
    "    ('preprocess', FeatureUnion([\n",
    "        ('num', Pipeline([\n",
    "            ('select', FunctionTransformer(lambda X: X[:, num_indices], validate=False)),\n",
    "            ('scaler', StandardScaler())\n",
    "        ])),\n",
    "        ('cat', Pipeline([\n",
    "            ('select', FunctionTransformer(lambda X: X[:, cat_indices], validate=False)),\n",
    "            ('onehot', OneHotEncoder(sparse=False, categories='auto', handle_unknown='ignore'))\n",
    "        ])),\n",
    "        ('text', Pipeline([\n",
    "            ('select', FunctionTransformer(lambda X: X[:, text_indices[0]], validate=False)),\n",
    "            ('tfidf', TfidfVectorizer(min_df=50)),\n",
    "            ('toarray', FunctionTransformer(lambda X: X.toarray(), validate=False, accept_sparse=True))\n",
    "        ]))\n",
    "    ])),\n",
    "    ('pca', PCA(100)),\n",
    "    ('model', RandomForestClassifier(n_jobs=-1))\n",
    "])"
   ]
  },
  {
   "cell_type": "code",
   "execution_count": 79,
   "metadata": {},
   "outputs": [
    {
     "name": "stdout",
     "output_type": "stream",
     "text": [
      "CPU times: user 7min 37s, sys: 22.7 s, total: 8min\n",
      "Wall time: 1min 26s\n"
     ]
    }
   ],
   "source": [
    "%%time\n",
    "pl = pl.fit(X_train.values, y_train)"
   ]
  },
  {
   "cell_type": "code",
   "execution_count": 80,
   "metadata": {},
   "outputs": [
    {
     "name": "stdout",
     "output_type": "stream",
     "text": [
      "Train:\n",
      "\n",
      "              precision    recall  f1-score   support\n",
      "\n",
      "           A       1.00      0.08      0.15       279\n",
      "           B       0.98      0.26      0.41       617\n",
      "           C       1.00      0.12      0.21        26\n",
      "           D       0.99      0.18      0.31      1930\n",
      "           E       0.94      0.64      0.76      3966\n",
      "           F       1.00      0.23      0.37        71\n",
      "           G       0.94      0.26      0.41      1947\n",
      "           H       0.96      0.83      0.89      4056\n",
      "           I       0.89      0.53      0.66      5388\n",
      "           J       0.88      0.64      0.74      8583\n",
      "           K       0.95      0.78      0.86     12368\n",
      "           L       0.87      0.47      0.61      1732\n",
      "           M       0.89      0.79      0.84     10557\n",
      "           N       0.91      0.82      0.86     10739\n",
      "           O       0.00      0.00      0.00         6\n",
      "           P       0.00      0.00      0.00         0\n",
      "           Q       1.00      0.10      0.19        39\n",
      "           R       0.93      0.15      0.25      1377\n",
      "           S       0.90      0.44      0.59      1569\n",
      "           T       0.97      0.20      0.33       352\n",
      "           V       0.00      0.00      0.00         1\n",
      "           W       1.00      0.06      0.12        31\n",
      "           Y       1.00      0.33      0.50         3\n",
      "           Z       0.99      0.47      0.63      1428\n",
      "\n",
      "   micro avg       0.91      0.66      0.77     67065\n",
      "   macro avg       0.83      0.35      0.44     67065\n",
      "weighted avg       0.92      0.66      0.75     67065\n",
      " samples avg       0.69      0.68      0.68     67065\n",
      "\n",
      "\n",
      "\n",
      "Test:\n",
      "\n",
      "              precision    recall  f1-score   support\n",
      "\n",
      "           A       0.75      0.03      0.05       119\n",
      "           B       0.46      0.06      0.11       254\n",
      "           C       0.00      0.00      0.00        15\n",
      "           D       0.44      0.04      0.07       844\n",
      "           E       0.91      0.60      0.72      1737\n",
      "           F       0.00      0.00      0.00        30\n",
      "           G       0.54      0.13      0.21       811\n",
      "           H       0.90      0.79      0.84      1702\n",
      "           I       0.77      0.40      0.53      2391\n",
      "           J       0.79      0.55      0.65      3641\n",
      "           K       0.91      0.74      0.82      5363\n",
      "           L       0.71      0.33      0.45       758\n",
      "           M       0.83      0.75      0.79      4427\n",
      "           N       0.86      0.77      0.81      4486\n",
      "           O       0.00      0.00      0.00         2\n",
      "           P       0.00      0.00      0.00         1\n",
      "           Q       0.00      0.00      0.00        14\n",
      "           R       0.60      0.08      0.14       547\n",
      "           S       0.74      0.28      0.40       760\n",
      "           T       0.85      0.12      0.21       139\n",
      "           V       0.00      0.00      0.00         0\n",
      "           W       0.00      0.00      0.00        11\n",
      "           Y       0.00      0.00      0.00         2\n",
      "           Z       0.91      0.32      0.47       608\n",
      "\n",
      "   micro avg       0.85      0.59      0.70     28662\n",
      "   macro avg       0.50      0.25      0.30     28662\n",
      "weighted avg       0.81      0.59      0.67     28662\n",
      " samples avg       0.62      0.60      0.61     28662\n",
      "\n"
     ]
    }
   ],
   "source": [
    "test_model(pl)"
   ]
  },
  {
   "cell_type": "markdown",
   "metadata": {},
   "source": [
    "# Random Forest (no PCA)"
   ]
  },
  {
   "cell_type": "code",
   "execution_count": 81,
   "metadata": {},
   "outputs": [],
   "source": [
    "pl = Pipeline([\n",
    "    ('preprocess', FeatureUnion([\n",
    "        ('num', Pipeline([\n",
    "            ('select', FunctionTransformer(lambda X: X[:, num_indices], validate=False)),\n",
    "            ('scaler', StandardScaler())\n",
    "        ])),\n",
    "        ('cat', Pipeline([\n",
    "            ('select', FunctionTransformer(lambda X: X[:, cat_indices], validate=False)),\n",
    "            ('onehot', OneHotEncoder(sparse=False, categories='auto', handle_unknown='ignore'))\n",
    "        ])),\n",
    "        ('text', Pipeline([\n",
    "            ('select', FunctionTransformer(lambda X: X[:, text_indices[0]], validate=False)),\n",
    "            ('tfidf', TfidfVectorizer(min_df=50)),\n",
    "            ('toarray', FunctionTransformer(lambda X: X.toarray(), validate=False, accept_sparse=True))\n",
    "        ]))\n",
    "    ])),\n",
    "    ('model', RandomForestClassifier(n_jobs=-1))\n",
    "])"
   ]
  },
  {
   "cell_type": "code",
   "execution_count": 82,
   "metadata": {},
   "outputs": [
    {
     "name": "stdout",
     "output_type": "stream",
     "text": [
      "CPU times: user 4min 14s, sys: 21.8 s, total: 4min 36s\n",
      "Wall time: 50.2 s\n"
     ]
    }
   ],
   "source": [
    "%%time\n",
    "pl = pl.fit(X_train.values, y_train)"
   ]
  },
  {
   "cell_type": "code",
   "execution_count": 83,
   "metadata": {},
   "outputs": [
    {
     "name": "stdout",
     "output_type": "stream",
     "text": [
      "Train:\n",
      "\n",
      "              precision    recall  f1-score   support\n",
      "\n",
      "           A       0.98      0.44      0.61       279\n",
      "           B       0.94      0.58      0.71       617\n",
      "           C       1.00      0.65      0.79        26\n",
      "           D       0.92      0.53      0.68      1930\n",
      "           E       0.93      0.77      0.84      3966\n",
      "           F       0.98      0.73      0.84        71\n",
      "           G       0.89      0.58      0.70      1947\n",
      "           H       0.97      0.91      0.94      4056\n",
      "           I       0.90      0.73      0.81      5388\n",
      "           J       0.88      0.79      0.83      8583\n",
      "           K       0.95      0.87      0.91     12368\n",
      "           L       0.91      0.70      0.79      1732\n",
      "           M       0.93      0.87      0.90     10557\n",
      "           N       0.93      0.89      0.91     10739\n",
      "           O       1.00      0.67      0.80         6\n",
      "           P       0.00      0.00      0.00         0\n",
      "           Q       1.00      0.44      0.61        39\n",
      "           R       0.92      0.47      0.63      1377\n",
      "           S       0.90      0.78      0.83      1569\n",
      "           T       0.95      0.66      0.78       352\n",
      "           V       0.00      0.00      0.00         1\n",
      "           W       1.00      0.71      0.83        31\n",
      "           Y       1.00      0.67      0.80         3\n",
      "           Z       0.97      0.76      0.86      1428\n",
      "\n",
      "   micro avg       0.93      0.81      0.86     67065\n",
      "   macro avg       0.87      0.63      0.72     67065\n",
      "weighted avg       0.93      0.81      0.86     67065\n",
      " samples avg       0.82      0.81      0.81     67065\n",
      "\n",
      "\n",
      "\n",
      "Test:\n",
      "\n",
      "              precision    recall  f1-score   support\n",
      "\n",
      "           A       0.21      0.07      0.10       119\n",
      "           B       0.28      0.14      0.19       254\n",
      "           C       0.14      0.07      0.09        15\n",
      "           D       0.28      0.14      0.19       844\n",
      "           E       0.77      0.63      0.69      1737\n",
      "           F       0.54      0.23      0.33        30\n",
      "           G       0.43      0.28      0.34       811\n",
      "           H       0.84      0.81      0.83      1702\n",
      "           I       0.59      0.46      0.52      2391\n",
      "           J       0.71      0.62      0.66      3641\n",
      "           K       0.84      0.77      0.80      5363\n",
      "           L       0.52      0.38      0.44       758\n",
      "           M       0.80      0.75      0.77      4427\n",
      "           N       0.81      0.77      0.79      4486\n",
      "           O       0.00      0.00      0.00         2\n",
      "           P       0.00      0.00      0.00         1\n",
      "           Q       0.17      0.07      0.10        14\n",
      "           R       0.31      0.17      0.22       547\n",
      "           S       0.61      0.43      0.51       760\n",
      "           T       0.42      0.26      0.32       139\n",
      "           V       0.00      0.00      0.00         0\n",
      "           W       0.00      0.00      0.00        11\n",
      "           Y       0.00      0.00      0.00         2\n",
      "           Z       0.65      0.42      0.51       608\n",
      "\n",
      "   micro avg       0.74      0.63      0.68     28662\n",
      "   macro avg       0.41      0.31      0.35     28662\n",
      "weighted avg       0.72      0.63      0.67     28662\n",
      " samples avg       0.65      0.64      0.64     28662\n",
      "\n"
     ]
    }
   ],
   "source": [
    "test_model(pl)"
   ]
  }
 ],
 "metadata": {
  "kernelspec": {
   "display_name": "Python 3",
   "language": "python",
   "name": "python3"
  },
  "language_info": {
   "codemirror_mode": {
    "name": "ipython",
    "version": 3
   },
   "file_extension": ".py",
   "mimetype": "text/x-python",
   "name": "python",
   "nbconvert_exporter": "python",
   "pygments_lexer": "ipython3",
   "version": "3.7.4"
  }
 },
 "nbformat": 4,
 "nbformat_minor": 4
}
